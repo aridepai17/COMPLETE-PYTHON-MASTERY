{
 "cells": [
  {
   "cell_type": "markdown",
   "id": "d77aa247-97f4-4e1a-85d1-7a6f9f173db6",
   "metadata": {},
   "source": [
    "Slicing is a common operation in Python that allows us to extract a portion of a sequence, such as a string, list, or tuple.\n",
    "Basic syntax -\n",
    "sequence[ start : stop : step ]\n",
    "\n",
    "start: The index from which the slicing begins ( inclusive )\n",
    "stop: The index at which the slicing ends ( exclusive )\n",
    "step: The number of elements to skip between each included element."
   ]
  },
  {
   "cell_type": "code",
   "execution_count": 6,
   "id": "e89f3ebf-9bce-4812-9db5-108655bdaae8",
   "metadata": {},
   "outputs": [
    {
     "name": "stdout",
     "output_type": "stream",
     "text": [
      "Hello\n",
      "world!\n",
      "Hlo ol!\n",
      "!dlrow ,olleH\n"
     ]
    }
   ],
   "source": [
    "# Strings\n",
    "mystring = \"Hello, world!\"\n",
    "print(mystring[0:5])\n",
    "print(mystring[7:])\n",
    "print(mystring[::2])\n",
    "print(mystring[::-1]) # Reverse the string"
   ]
  },
  {
   "cell_type": "code",
   "execution_count": 8,
   "id": "8de327d1-26c8-4f16-8212-a9e1cb4345de",
   "metadata": {},
   "outputs": [
    {
     "name": "stdout",
     "output_type": "stream",
     "text": [
      "(2, 3)\n",
      "(1, 2)\n"
     ]
    }
   ],
   "source": [
    "# Tuples\n",
    "mytuple = (1, 2, 3, 4, 5)\n",
    "print(mytuple[1:3])\n",
    "print(mytuple[:2])"
   ]
  },
  {
   "cell_type": "code",
   "execution_count": 10,
   "id": "1583fa3c-463e-4e77-a7e6-1c6179b15531",
   "metadata": {},
   "outputs": [
    {
     "name": "stdout",
     "output_type": "stream",
     "text": [
      "[3, 4, 5]\n",
      "[1, 2, 3]\n",
      "[2, 4]\n"
     ]
    }
   ],
   "source": [
    "# Lists\n",
    "mylist = [ 1, 2, 3, 4, 5 ]\n",
    "print(mylist[2:])\n",
    "print(mylist[:3])\n",
    "print(mylist[1:4:2])"
   ]
  },
  {
   "cell_type": "code",
   "execution_count": 12,
   "id": "b95a5a89-ab89-4fc5-967e-0498f5512ac2",
   "metadata": {},
   "outputs": [],
   "source": [
    "# Sets do not support slicing"
   ]
  },
  {
   "cell_type": "code",
   "execution_count": 14,
   "id": "a74925f3-1d62-41f2-80aa-1c28311a9e84",
   "metadata": {},
   "outputs": [
    {
     "name": "stdout",
     "output_type": "stream",
     "text": [
      "1\n"
     ]
    }
   ],
   "source": [
    "# Dictionaries\n",
    "mydict = {\n",
    "    'a': 1, \n",
    "    'b': 2, \n",
    "    'c': 3,\n",
    "    'd': 4,\n",
    "}\n",
    "\n",
    "avalue = mydict['a']\n",
    "print(avalue)"
   ]
  }
 ],
 "metadata": {
  "kernelspec": {
   "display_name": "Python 3 (ipykernel)",
   "language": "python",
   "name": "python3"
  },
  "language_info": {
   "codemirror_mode": {
    "name": "ipython",
    "version": 3
   },
   "file_extension": ".py",
   "mimetype": "text/x-python",
   "name": "python",
   "nbconvert_exporter": "python",
   "pygments_lexer": "ipython3",
   "version": "3.12.4"
  }
 },
 "nbformat": 4,
 "nbformat_minor": 5
}
