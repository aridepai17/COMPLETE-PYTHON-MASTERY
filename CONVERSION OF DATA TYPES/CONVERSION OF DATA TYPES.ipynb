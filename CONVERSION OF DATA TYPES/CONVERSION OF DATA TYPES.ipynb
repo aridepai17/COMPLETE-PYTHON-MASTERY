{
 "cells": [
  {
   "cell_type": "code",
   "execution_count": 9,
   "id": "06aab017-fd74-41b5-99c6-904152110eb6",
   "metadata": {},
   "outputs": [
    {
     "name": "stdout",
     "output_type": "stream",
     "text": [
      "Type casting from int to str:  <class 'int'> <class 'str'>\n"
     ]
    }
   ],
   "source": [
    "'''\n",
    "Type casting also known as type conversion is th process of converting a variable of one data type to another data type.\n",
    "This is common practice in programming, as it allows us to manipulate an work with data in different ways.\n",
    "Type casting can be done using built-in functions like str(), int(), float(), list(), set(), and tuple(), which converts variables from one data type to another.\n",
    "'''\n",
    "\n",
    "# Type casting from int to str\n",
    "myint = 42\n",
    "mystring = str(myint)\n",
    "print(\"Type casting from int to str: \", type(myint), type(mystring))"
   ]
  },
  {
   "cell_type": "code",
   "execution_count": 13,
   "id": "7e8aa25b-eed2-4f6a-890e-3153e5fa467c",
   "metadata": {},
   "outputs": [
    {
     "name": "stdout",
     "output_type": "stream",
     "text": [
      "<class 'int'>\n"
     ]
    }
   ],
   "source": [
    "# Type casting from str to int\n",
    "\n",
    "mystring = '43'\n",
    "myint = int(mystring)\n",
    "print(type(myint))"
   ]
  },
  {
   "cell_type": "code",
   "execution_count": 15,
   "id": "06f97065-39a2-47f3-9ffb-9a410ed7b772",
   "metadata": {},
   "outputs": [
    {
     "name": "stdout",
     "output_type": "stream",
     "text": [
      "Type casting from list to set:  <class 'list'> <class 'set'>\n"
     ]
    }
   ],
   "source": [
    "# Type casting from list to set\n",
    "\n",
    "mylist = [ 1, 2, 4, 2, 3, 5 ]\n",
    "myset = set(mylist)\n",
    "print(\"Type casting from list to set: \", type(mylist), type(myset))"
   ]
  },
  {
   "cell_type": "code",
   "execution_count": 17,
   "id": "f2201a30-7c6c-48ab-9f5e-bc6301a761d5",
   "metadata": {},
   "outputs": [
    {
     "name": "stdout",
     "output_type": "stream",
     "text": [
      "Type casting from set to list:  <class 'set'> <class 'list'>\n"
     ]
    }
   ],
   "source": [
    "# Type casting from set to list\n",
    "\n",
    "myset = { 4, 5, 6, 7, 8, 9 }\n",
    "mylist = list(myset)\n",
    "print(\"Type casting from set to list: \", type(myset), type(mylist))"
   ]
  }
 ],
 "metadata": {
  "kernelspec": {
   "display_name": "Python 3 (ipykernel)",
   "language": "python",
   "name": "python3"
  },
  "language_info": {
   "codemirror_mode": {
    "name": "ipython",
    "version": 3
   },
   "file_extension": ".py",
   "mimetype": "text/x-python",
   "name": "python",
   "nbconvert_exporter": "python",
   "pygments_lexer": "ipython3",
   "version": "3.12.4"
  }
 },
 "nbformat": 4,
 "nbformat_minor": 5
}
