{
 "cells": [
  {
   "cell_type": "raw",
   "id": "c1b4023a-2ad4-4c8a-b06f-1c6782e1341a",
   "metadata": {},
   "source": [
    "Arithmetic operators are -\n",
    "Addition \n",
    "Subtraction \n",
    "Multiplication \n",
    "Division"
   ]
  },
  {
   "cell_type": "code",
   "execution_count": 26,
   "id": "86b24cfd-5e29-41ff-8a46-2c573907040a",
   "metadata": {},
   "outputs": [
    {
     "name": "stdout",
     "output_type": "stream",
     "text": [
      "13\n",
      "7\n",
      "30\n",
      "3.3333333333333335\n"
     ]
    }
   ],
   "source": [
    "x = 10\n",
    "y = 3\n",
    "\n",
    "print(x + y)\n",
    "print(x - y)\n",
    "print(x * y)\n",
    "print(x / y)"
   ]
  },
  {
   "cell_type": "raw",
   "id": "2ee41a5f-d04b-4708-ab98-5e1033d488b2",
   "metadata": {},
   "source": [
    "Advanced Arithmetic operators are -\n",
    "\n",
    "1. // ( Floor Division ) \n",
    "- The // operator performs a division between two number adn returns the quotient without the remainder.\n",
    "\n",
    "2. % ( Modulo )\n",
    "- The % operator performs a division operation between two numbers and returns the remainder only.\n",
    "\n",
    "3. ** ( Exponentiation )\n",
    "- The ** operator raises the first operand to the power of the second operand."
   ]
  },
  {
   "cell_type": "code",
   "execution_count": 34,
   "id": "fd3f4bf3-717d-4b91-943a-9c249bf6dc44",
   "metadata": {},
   "outputs": [
    {
     "name": "stdout",
     "output_type": "stream",
     "text": [
      "3\n",
      "1\n",
      "1000\n"
     ]
    }
   ],
   "source": [
    "a = 10\n",
    "b = 3\n",
    "c = a // b # Floor division\n",
    "print(c)\n",
    "d = a % b # Modulo operation\n",
    "print(d)\n",
    "e = a ** b # Exponentiation\n",
    "print(e)"
   ]
  }
 ],
 "metadata": {
  "kernelspec": {
   "display_name": "Python 3 (ipykernel)",
   "language": "python",
   "name": "python3"
  },
  "language_info": {
   "codemirror_mode": {
    "name": "ipython",
    "version": 3
   },
   "file_extension": ".py",
   "mimetype": "text/x-python",
   "name": "python",
   "nbconvert_exporter": "python",
   "pygments_lexer": "ipython3",
   "version": "3.12.4"
  }
 },
 "nbformat": 4,
 "nbformat_minor": 5
}
