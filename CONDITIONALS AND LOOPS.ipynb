{
 "cells": [
  {
   "cell_type": "code",
   "execution_count": 3,
   "id": "d2acb262-7a4c-4cb0-b7cb-933a7d64ce9a",
   "metadata": {},
   "outputs": [
    {
     "name": "stdout",
     "output_type": "stream",
     "text": [
      "You are eligible\n"
     ]
    }
   ],
   "source": [
    "'''\n",
    "Conditional statements are programming that allow a program to make based on certain conditions.\n",
    "These statements enable the program to execute different depending whether a particular condition is true or false.\n",
    "'''\n",
    "\n",
    "age = 19\n",
    "if age >= 18:\n",
    "    print(\"You are eligible\")\n",
    "else:\n",
    "    print(\"Ineligible\")"
   ]
  },
  {
   "cell_type": "code",
   "execution_count": 5,
   "id": "4ee3ff81-94ae-4db5-8a91-37a9a09876d3",
   "metadata": {},
   "outputs": [
    {
     "name": "stdout",
     "output_type": "stream",
     "text": [
      "A is equal to B\n"
     ]
    }
   ],
   "source": [
    "a = 10\n",
    "b = 10\n",
    "\n",
    "if a>b:\n",
    "    print('A is greater')\n",
    "elif a == b:\n",
    "    print('A is equal to B')\n",
    "else:\n",
    "    print('B is greater')"
   ]
  },
  {
   "cell_type": "code",
   "execution_count": 11,
   "id": "bea5ed1f-33a9-4c58-8f3d-e8d031bed9d2",
   "metadata": {},
   "outputs": [
    {
     "name": "stdout",
     "output_type": "stream",
     "text": [
      "['pepperoni', 'mushrooms', 'olives', 'sausage', 'bacon', 'peppers', 'pineapple']\n"
     ]
    }
   ],
   "source": [
    "toppings = [ \"pepperoni\", \"mushrooms\", \"olives\", \"sausage\" ]\n",
    "newtoppings = [ \"bacon\", \"peppers\", \"pineapple\" ]\n",
    "\n",
    "for topping in newtoppings:\n",
    "    toppings.append(topping)\n",
    "\n",
    "print(toppings)"
   ]
  },
  {
   "cell_type": "code",
   "execution_count": 21,
   "id": "9f5fb9f4-3468-4db1-8bb7-ab9317c6fe1f",
   "metadata": {},
   "outputs": [
    {
     "name": "stdout",
     "output_type": "stream",
     "text": [
      "0\n",
      "1\n",
      "2\n",
      "3\n",
      "4\n",
      "2\n",
      "4\n",
      "6\n",
      "8\n"
     ]
    }
   ],
   "source": [
    "# range() is a built in Python function used to generate a sequence of numbers. It is commonly used for looping a specific number of times in a for loop.\n",
    "# Syntax for range(): range(start, stop, step)\n",
    "\n",
    "for i in range(5):\n",
    "    print(i)\n",
    "for i in range(2, 9, 2):\n",
    "    print(i)"
   ]
  },
  {
   "cell_type": "code",
   "execution_count": 23,
   "id": "0aafeaf7-0524-4760-9c86-8d223d6ca473",
   "metadata": {},
   "outputs": [
    {
     "name": "stdout",
     "output_type": "stream",
     "text": [
      "0\n",
      "1\n",
      "2\n",
      "3\n",
      "4\n"
     ]
    }
   ],
   "source": [
    "'''\n",
    "The break statement is used a exit a loop prematurely. When the break statement is encountered insider a loop, the loop is immediately\n",
    "terminated and the program execution continues with the next statement outside of the loop.\n",
    "'''\n",
    "\n",
    "for i in range(10):\n",
    "    if i == 5:\n",
    "        break\n",
    "    print(i)"
   ]
  },
  {
   "cell_type": "code",
   "execution_count": 25,
   "id": "22f956c4-c134-4819-8195-a73f454a27c5",
   "metadata": {},
   "outputs": [
    {
     "name": "stdout",
     "output_type": "stream",
     "text": [
      "1\n",
      "3\n",
      "5\n",
      "7\n",
      "9\n"
     ]
    }
   ],
   "source": [
    "'''\n",
    "The continue statement is used to skip over certain iterations of a loop. When the continue statement is encountered inside the loop, \n",
    "the current iteration is skipped and the loop continues with the next iteration.\n",
    "'''\n",
    "\n",
    "for i in range(10):\n",
    "    if i % 2 == 0:\n",
    "        continue\n",
    "    print(i)"
   ]
  },
  {
   "cell_type": "code",
   "execution_count": 1,
   "id": "60d50fd4-5732-4f4e-9c77-5066ad14a55d",
   "metadata": {},
   "outputs": [
    {
     "name": "stdout",
     "output_type": "stream",
     "text": [
      "0 I AM DA GOAT\n",
      "1 I AM DA GOAT\n",
      "2 I AM DA GOAT\n",
      "3 I AM DA GOAT\n",
      "4 I AM DA GOAT\n"
     ]
    }
   ],
   "source": [
    "'''\n",
    "Conditional Looping is a control flow statement that allows a programmer to execute a certain block of code repeatedly until a certain\n",
    "condition is no longer met. In python, there are two types of conditional loops: for and while loops.\n",
    "'''\n",
    "\n",
    "'''\n",
    "The while loop allows a programmer to execute a block of code repeatedly while a certain condition it true.\n",
    "'''\n",
    "\n",
    "i = 0\n",
    "while i < 5:\n",
    "    print( i, \"I AM DA GOAT\")\n",
    "    i = i + 1"
   ]
  }
 ],
 "metadata": {
  "kernelspec": {
   "display_name": "Python 3 (ipykernel)",
   "language": "python",
   "name": "python3"
  },
  "language_info": {
   "codemirror_mode": {
    "name": "ipython",
    "version": 3
   },
   "file_extension": ".py",
   "mimetype": "text/x-python",
   "name": "python",
   "nbconvert_exporter": "python",
   "pygments_lexer": "ipython3",
   "version": "3.12.4"
  }
 },
 "nbformat": 4,
 "nbformat_minor": 5
}
