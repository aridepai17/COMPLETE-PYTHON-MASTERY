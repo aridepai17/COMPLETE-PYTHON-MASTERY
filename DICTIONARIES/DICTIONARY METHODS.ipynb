{
 "cells": [
  {
   "cell_type": "code",
   "execution_count": 9,
   "id": "7d3a63cb-0e30-438d-a113-c6720eb465ca",
   "metadata": {},
   "outputs": [
    {
     "name": "stdout",
     "output_type": "stream",
     "text": [
      "Keys in the dictionary:  ['apple', 'banana', 'orange']\n",
      "Values in the dictionary:  [3, 4, 5]\n",
      "Dictionary items:  [('apple', 3), ('banana', 4), ('orange', 5)]\n",
      "Fetching value for 'apple':  3\n"
     ]
    }
   ],
   "source": [
    "'''\n",
    "dict.keys() returns a list of all the keys in the dictionary\n",
    "dict.values() returns a list of all the values in the dictionary\n",
    "dict.items() returns a list of all the key-value pairs in the dictionary\n",
    "dict.het(key, default) reutrns the value for the specified key, or the defacult value if the key is not found\n",
    "'''\n",
    "\n",
    "mydict = { \"apple\" : 3, \"banana\" : 4, \"orange\" : 5 }\n",
    "print(\"Keys in the dictionary: \", list(mydict.keys()))\n",
    "print(\"Values in the dictionary: \", list(mydict.values()))\n",
    "print(\"Dictionary items: \", list(mydict.items()))\n",
    "print(\"Fetching value for 'apple': \", mydict.get('apple', 0))"
   ]
  }
 ],
 "metadata": {
  "kernelspec": {
   "display_name": "Python 3 (ipykernel)",
   "language": "python",
   "name": "python3"
  },
  "language_info": {
   "codemirror_mode": {
    "name": "ipython",
    "version": 3
   },
   "file_extension": ".py",
   "mimetype": "text/x-python",
   "name": "python",
   "nbconvert_exporter": "python",
   "pygments_lexer": "ipython3",
   "version": "3.12.4"
  }
 },
 "nbformat": 4,
 "nbformat_minor": 5
}
