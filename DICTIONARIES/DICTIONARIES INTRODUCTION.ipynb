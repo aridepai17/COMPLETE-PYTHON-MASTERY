{
 "cells": [
  {
   "cell_type": "code",
   "execution_count": 9,
   "id": "f392b4b5-8602-4fa1-82ec-9cddc6cb9374",
   "metadata": {},
   "outputs": [
    {
     "name": "stdout",
     "output_type": "stream",
     "text": [
      "{'Name': 'Thor', 'Place': 'Asgard', 'Weapon': 'Hammer', 1: 2, 3: 'power', 'alibies': ['Ironman', 'Captain America']}\n"
     ]
    }
   ],
   "source": [
    "# Dictionaries are an incredibly powerful tool for working with data. They allow you to store key-value pairs which can be used to represent complex data structures in a simple and efficient way.\n",
    "# Make a dictionary with {} and : to signify a key and value\n",
    "\n",
    "marveldict = {\n",
    "    'Name':'Thor', \n",
    "    'Place':'Asgard', \n",
    "    'Weapon':'Hammer', \n",
    "    1:2, \n",
    "    3:'power', \n",
    "    'alibies':['Ironman', 'Captain America'],\n",
    "    'abc': {1:2, 4:5}\n",
    "}\n",
    "print(marveldict)"
   ]
  },
  {
   "cell_type": "code",
   "execution_count": 19,
   "id": "e8e520a3-4ef2-403c-93f9-4717bda9db2a",
   "metadata": {},
   "outputs": [
    {
     "name": "stdout",
     "output_type": "stream",
     "text": [
      "Asgard\n",
      "Thor\n",
      "Hammer\n",
      "['Ironman', 'Captain America']\n"
     ]
    }
   ],
   "source": [
    "# Call values by their key\n",
    "print(marveldict['Place'])\n",
    "print(marveldict['Name'])\n",
    "print(marveldict['Weapon'])\n",
    "print(marveldict['alibies'])"
   ]
  },
  {
   "cell_type": "code",
   "execution_count": 11,
   "id": "0bb53c1a-a6e4-493b-a77c-09f55773eda3",
   "metadata": {},
   "outputs": [
    {
     "data": {
      "text/plain": [
       "dict"
      ]
     },
     "execution_count": 11,
     "metadata": {},
     "output_type": "execute_result"
    }
   ],
   "source": [
    "type(marveldict)"
   ]
  },
  {
   "cell_type": "code",
   "execution_count": 21,
   "id": "1884b804-dffd-4bf5-9abc-2bf9768dd7b6",
   "metadata": {},
   "outputs": [
    {
     "name": "stdout",
     "output_type": "stream",
     "text": [
      "{'name': 'John Smith', 'email': 'john.smith@example.com', 'phone': '333-333-1212'}\n"
     ]
    }
   ],
   "source": [
    "# Modification of dictionary - Mutability\n",
    "\n",
    "customer = {\n",
    "    'id': 1234, \n",
    "    'name': \"John Smith\",\n",
    "    'email': \"john@example.com\"\n",
    "}\n",
    "\n",
    "# Update the customer's email addres\n",
    "customer[\"email\"] = \"john.smith@example.com\"\n",
    "\n",
    "# Add a new key-value pair\n",
    "customer[\"phone\"] = \"333-333-1212\"\n",
    "\n",
    "# Remove the customer's ID\n",
    "del customer['id']\n",
    "\n",
    "print(customer)\n",
    "\n"
   ]
  },
  {
   "cell_type": "code",
   "execution_count": 31,
   "id": "c4499623-9b2e-4cde-91b1-9100a057ecec",
   "metadata": {},
   "outputs": [
    {
     "name": "stdout",
     "output_type": "stream",
     "text": [
      "dict_keys(['Name', 'Place', 'Weapon', 1, 3, 'alibies'])\n",
      "['Name', 'Place', 'Weapon', 1, 3, 'alibies']\n"
     ]
    }
   ],
   "source": [
    "# Some basic Dictionary methods\n",
    "\n",
    "# keys() method returns the list of keys in the dictionary\n",
    "marveldict.keys()\n",
    "print(marveldict.keys())\n",
    "listmarveldict = list(marveldict.keys())\n",
    "print(listmarveldict)"
   ]
  },
  {
   "cell_type": "code",
   "execution_count": 35,
   "id": "43d2de62-be25-4047-9554-a7aa490bea24",
   "metadata": {},
   "outputs": [
    {
     "name": "stdout",
     "output_type": "stream",
     "text": [
      "dict_values(['Thor', 'Asgard', 'Hammer', 2, 'power', ['Ironman', 'Captain America']])\n",
      "['Thor', 'Asgard', 'Hammer', 2, 'power', ['Ironman', 'Captain America']]\n"
     ]
    }
   ],
   "source": [
    "# values() method returns the list of values in the dictionary\n",
    "marveldict.values()\n",
    "print(marveldict.values())\n",
    "listmarveldict = list(marveldict.values())\n",
    "print(listmarveldict)"
   ]
  },
  {
   "cell_type": "code",
   "execution_count": 37,
   "id": "426d3929-8598-4a49-9f49-88470dd391b5",
   "metadata": {},
   "outputs": [
    {
     "data": {
      "text/plain": [
       "dict_items([('Name', 'Thor'), ('Place', 'Asgard'), ('Weapon', 'Hammer'), (1, 2), (3, 'power'), ('alibies', ['Ironman', 'Captain America'])])"
      ]
     },
     "execution_count": 37,
     "metadata": {},
     "output_type": "execute_result"
    }
   ],
   "source": [
    "# items() displays elements in a dictionary\n",
    "\n",
    "marveldict.items()\n",
    "print(marveldict.items())\n",
    "listmarveldict = list(marveldict"
   ]
  },
  {
   "cell_type": "code",
   "execution_count": null,
   "id": "443365e0-9325-472f-9ac8-a9356aa670ea",
   "metadata": {},
   "outputs": [],
   "source": []
  }
 ],
 "metadata": {
  "kernelspec": {
   "display_name": "Python 3 (ipykernel)",
   "language": "python",
   "name": "python3"
  },
  "language_info": {
   "codemirror_mode": {
    "name": "ipython",
    "version": 3
   },
   "file_extension": ".py",
   "mimetype": "text/x-python",
   "name": "python",
   "nbconvert_exporter": "python",
   "pygments_lexer": "ipython3",
   "version": "3.12.4"
  }
 },
 "nbformat": 4,
 "nbformat_minor": 5
}
