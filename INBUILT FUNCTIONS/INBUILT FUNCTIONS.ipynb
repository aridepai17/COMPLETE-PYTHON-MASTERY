{
 "cells": [
  {
   "cell_type": "code",
   "execution_count": 1,
   "id": "301e340b-623f-4122-853f-e46fa70fb243",
   "metadata": {},
   "outputs": [
    {
     "name": "stdin",
     "output_type": "stream",
     "text": [
      "Enter your name:  Advaith\n"
     ]
    },
    {
     "name": "stdout",
     "output_type": "stream",
     "text": [
      "Hello, Advaith!\n"
     ]
    }
   ],
   "source": [
    "# You can take user inputs using input function\n",
    "\n",
    "name = input(\"Enter your name: \")\n",
    "print(\"Hello, \" + name + \"!\")"
   ]
  },
  {
   "cell_type": "code",
   "execution_count": 3,
   "id": "e77f4d96-aa60-4ef0-a72f-e9b7b8fcfc01",
   "metadata": {},
   "outputs": [
    {
     "name": "stdout",
     "output_type": "stream",
     "text": [
      "Welcome to Python 3.12's help utility! If this is your first time using\n",
      "Python, you should definitely check out the tutorial at\n",
      "https://docs.python.org/3.12/tutorial/.\n",
      "\n",
      "Enter the name of any module, keyword, or topic to get help on writing\n",
      "Python programs and using Python modules.  To get a list of available\n",
      "modules, keywords, symbols, or topics, enter \"modules\", \"keywords\",\n",
      "\"symbols\", or \"topics\".\n",
      "\n",
      "Each module also comes with a one-line summary of what it does; to list\n",
      "the modules whose name or summary contain a given string such as \"spam\",\n",
      "enter \"modules spam\".\n",
      "\n",
      "To quit this help utility and return to the interpreter,\n",
      "enter \"q\" or \"quit\".\n",
      "\n"
     ]
    },
    {
     "name": "stdin",
     "output_type": "stream",
     "text": [
      "help>  \n"
     ]
    },
    {
     "name": "stdout",
     "output_type": "stream",
     "text": [
      "\n",
      "You are now leaving help and returning to the Python interpreter.\n",
      "If you want to ask for help on a particular object directly from the\n",
      "interpreter, you can type \"help(object)\".  Executing \"help('string')\"\n",
      "has the same effect as typing a particular string at the help> prompt.\n"
     ]
    }
   ],
   "source": [
    "help() # Help function to learn more about Python"
   ]
  },
  {
   "cell_type": "code",
   "execution_count": 19,
   "id": "4136146e-f6e7-42be-a76d-e8b36642fe92",
   "metadata": {},
   "outputs": [
    {
     "name": "stdout",
     "output_type": "stream",
     "text": [
      "1\n",
      "1.45\n",
      "1.435\n"
     ]
    }
   ],
   "source": [
    "# Round function returns the rounded number\n",
    "\n",
    "print(round( 1.45342 ))\n",
    "print(round( 1.45342, 2))\n",
    "print(round( 1.43473, 3))"
   ]
  },
  {
   "cell_type": "code",
   "execution_count": 21,
   "id": "8373c49e-839d-4632-8da6-63e84df88063",
   "metadata": {},
   "outputs": [
    {
     "data": {
      "text/plain": [
       "16"
      ]
     },
     "execution_count": 21,
     "metadata": {},
     "output_type": "execute_result"
    }
   ],
   "source": [
    "# Sum function sums the items of an iterator\n",
    "\n",
    "ex = [ 4, 6, 6 ]\n",
    "sum(ex)"
   ]
  },
  {
   "cell_type": "code",
   "execution_count": 23,
   "id": "a37c778c-8cd5-456c-920f-af46cef9435a",
   "metadata": {},
   "outputs": [
    {
     "data": {
      "text/plain": [
       "22"
      ]
     },
     "execution_count": 23,
     "metadata": {},
     "output_type": "execute_result"
    }
   ],
   "source": [
    "# Max function returns the largest item in an iterable\n",
    "\n",
    "list1 = [ 5, 6, 8, 12, 4, 22, 9 ]\n",
    "max(list1)"
   ]
  },
  {
   "cell_type": "code",
   "execution_count": 25,
   "id": "f75e2118-9c22-49e2-9939-f21eaa1ccbe2",
   "metadata": {},
   "outputs": [
    {
     "data": {
      "text/plain": [
       "2"
      ]
     },
     "execution_count": 25,
     "metadata": {},
     "output_type": "execute_result"
    }
   ],
   "source": [
    "# Min function returns the least item in an iterable\n",
    "\n",
    "list1 = [ 32, 3234, 33, 2, 554, 45, 222, 87 , 3 ]\n",
    "min(list1)"
   ]
  },
  {
   "cell_type": "code",
   "execution_count": 29,
   "id": "0a04138e-b3e7-4fa3-be36-5fad3f287a3e",
   "metadata": {},
   "outputs": [
    {
     "name": "stdout",
     "output_type": "stream",
     "text": [
      "2323\n",
      "323\n"
     ]
    }
   ],
   "source": [
    "# Absolute function returns the absolute value of a number\n",
    "\n",
    "print(abs(-2323))\n",
    "print(abs(323))"
   ]
  },
  {
   "cell_type": "code",
   "execution_count": 35,
   "id": "a58c37fe-c4ff-49eb-9b9c-8ef2bb380129",
   "metadata": {},
   "outputs": [
    {
     "data": {
      "text/plain": [
       "[(0, 3), (1, 7), (2, 5)]"
      ]
     },
     "execution_count": 35,
     "metadata": {},
     "output_type": "execute_result"
    }
   ],
   "source": [
    "# Enumerate function takes a collection and returns it as an enumerate object\n",
    "\n",
    "ex = [ 3, 7, 5 ]\n",
    "list(enumerate(ex))"
   ]
  },
  {
   "cell_type": "code",
   "execution_count": 37,
   "id": "5d7d60bd-fae0-475e-8a72-25c1dab70971",
   "metadata": {},
   "outputs": [
    {
     "data": {
      "text/plain": [
       "[(2, 'a'), (3, 'b'), (4, 'c'), (5, 'd')]"
      ]
     },
     "execution_count": 37,
     "metadata": {},
     "output_type": "execute_result"
    }
   ],
   "source": [
    "# Zip function retuns a n iterative from two or more iterators\n",
    "\n",
    "list1 = [ 2, 3, 4, 5 ]\n",
    "list2 = [ 'a', 'b', 'c', 'd' ]\n",
    "list(zip(list1, list2))"
   ]
  }
 ],
 "metadata": {
  "kernelspec": {
   "display_name": "Python 3 (ipykernel)",
   "language": "python",
   "name": "python3"
  },
  "language_info": {
   "codemirror_mode": {
    "name": "ipython",
    "version": 3
   },
   "file_extension": ".py",
   "mimetype": "text/x-python",
   "name": "python",
   "nbconvert_exporter": "python",
   "pygments_lexer": "ipython3",
   "version": "3.12.4"
  }
 },
 "nbformat": 4,
 "nbformat_minor": 5
}
