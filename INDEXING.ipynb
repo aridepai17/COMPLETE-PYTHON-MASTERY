{
 "cells": [
  {
   "cell_type": "code",
   "execution_count": 1,
   "id": "4a33fccd-6da4-4fc9-8782-706661a4b304",
   "metadata": {},
   "outputs": [
    {
     "name": "stdout",
     "output_type": "stream",
     "text": [
      "H\n",
      "!\n"
     ]
    }
   ],
   "source": [
    "mystring = \"Hello, world!\"\n",
    "print(mystring[0])\n",
    "print(mystring[-1])"
   ]
  },
  {
   "cell_type": "code",
   "execution_count": 7,
   "id": "c41f46b9-978a-486c-9c80-f9ea97477b45",
   "metadata": {},
   "outputs": [
    {
     "name": "stdout",
     "output_type": "stream",
     "text": [
      "3\n",
      "5\n"
     ]
    }
   ],
   "source": [
    "# Tuples can also be indexed using [] notation.\n",
    "mytuple = (1, 2, 3, 4, 5)\n",
    "print(mytuple[2])\n",
    "print(mytuple[-1])"
   ]
  },
  {
   "cell_type": "code",
   "execution_count": 9,
   "id": "7e143a49-27d8-4512-97ff-bf7a9fc83566",
   "metadata": {},
   "outputs": [
    {
     "name": "stdout",
     "output_type": "stream",
     "text": [
      "3\n",
      "5\n"
     ]
    }
   ],
   "source": [
    "# Lists can also be indexed using [] notation\n",
    "mylist = [ 1, 2, 3, 4, 5 ]\n",
    "print(mylist[2])\n",
    "print(mylist[-1])"
   ]
  },
  {
   "cell_type": "code",
   "execution_count": 11,
   "id": "749724d0-ef0f-4507-928c-70a5ccbe62d4",
   "metadata": {},
   "outputs": [],
   "source": [
    "# Sets are an unordered collection of unique elements and they do not support indexing"
   ]
  },
  {
   "cell_type": "code",
   "execution_count": 13,
   "id": "6fbbebbe-62ff-478d-a132-bc0aefe22041",
   "metadata": {},
   "outputs": [
    {
     "name": "stdout",
     "output_type": "stream",
     "text": [
      "John\n",
      "New York\n"
     ]
    }
   ],
   "source": [
    "# Dictionaries can be indexed using the keys.\n",
    "mydict = {\n",
    "    \"Name\" : \"John\",\n",
    "    \"Age\" : 23,\n",
    "    \"City\" : \"New York\"\n",
    "}\n",
    "\n",
    "print(mydict[\"Name\"])\n",
    "print(mydict[\"City\"])"
   ]
  }
 ],
 "metadata": {
  "kernelspec": {
   "display_name": "Python 3 (ipykernel)",
   "language": "python",
   "name": "python3"
  },
  "language_info": {
   "codemirror_mode": {
    "name": "ipython",
    "version": 3
   },
   "file_extension": ".py",
   "mimetype": "text/x-python",
   "name": "python",
   "nbconvert_exporter": "python",
   "pygments_lexer": "ipython3",
   "version": "3.12.4"
  }
 },
 "nbformat": 4,
 "nbformat_minor": 5
}
