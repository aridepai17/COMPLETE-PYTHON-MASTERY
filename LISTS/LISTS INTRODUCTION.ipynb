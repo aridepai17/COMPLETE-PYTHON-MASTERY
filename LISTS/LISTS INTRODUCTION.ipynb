{
 "cells": [
  {
   "cell_type": "code",
   "execution_count": 1,
   "id": "2493d013-8b87-4259-b4af-990b26284bed",
   "metadata": {},
   "outputs": [
    {
     "name": "stdout",
     "output_type": "stream",
     "text": [
      "[1, 2, 3, 4]\n"
     ]
    }
   ],
   "source": [
    "mylist = [1, 2, 3, 4]\n",
    "print(mylist)"
   ]
  },
  {
   "cell_type": "code",
   "execution_count": 3,
   "id": "872a24dd-4276-4890-9662-e64454eb8881",
   "metadata": {},
   "outputs": [
    {
     "data": {
      "text/plain": [
       "list"
      ]
     },
     "execution_count": 3,
     "metadata": {},
     "output_type": "execute_result"
    }
   ],
   "source": [
    "type(mylist)"
   ]
  },
  {
   "cell_type": "code",
   "execution_count": 7,
   "id": "9d2bbfb5-c6e8-4bcb-8f10-24ca53bab314",
   "metadata": {},
   "outputs": [
    {
     "name": "stdout",
     "output_type": "stream",
     "text": [
      "['A string', 23, 100.233, 'o', True]\n"
     ]
    }
   ],
   "source": [
    "# Lists can hold different object types\n",
    "\n",
    "mylist = ['A string', 23, 100.233, 'o', True ]\n",
    "print(mylist)"
   ]
  },
  {
   "cell_type": "code",
   "execution_count": 11,
   "id": "ac17c51b-a341-4f79-b8c4-526b6efd11c5",
   "metadata": {},
   "outputs": [
    {
     "data": {
      "text/plain": [
       "[0, 2, 3, 4, 5]"
      ]
     },
     "execution_count": 11,
     "metadata": {},
     "output_type": "execute_result"
    }
   ],
   "source": [
    "# Mutability of lists\n",
    "\n",
    "mylist = [ 1, 2, 3, 4, 5 ]\n",
    "mylist[0] = 0\n",
    "mylist"
   ]
  },
  {
   "cell_type": "code",
   "execution_count": 13,
   "id": "007be277-e13c-4081-8026-9a4ef0de50ab",
   "metadata": {},
   "outputs": [
    {
     "data": {
      "text/plain": [
       "4"
      ]
     },
     "execution_count": 13,
     "metadata": {},
     "output_type": "execute_result"
    }
   ],
   "source": [
    "# len() function returns the length of the list\n",
    "\n",
    "askname = [\"My\", \"Name\", \"is\", \"yourname\"]\n",
    "len(askname)"
   ]
  },
  {
   "cell_type": "code",
   "execution_count": 15,
   "id": "90eb253b-7a93-4679-8e49-c55e7e9339ed",
   "metadata": {},
   "outputs": [
    {
     "data": {
      "text/plain": [
       "3990"
      ]
     },
     "execution_count": 15,
     "metadata": {},
     "output_type": "execute_result"
    }
   ],
   "source": [
    "# sum() function returns the sum of the elements of the list \n",
    "# sum() function only works with numeric datatypes\n",
    "\n",
    "newlist = [ 2, 35, 355, 3566, 32 ]\n",
    "sum(newlist)"
   ]
  },
  {
   "cell_type": "code",
   "execution_count": 17,
   "id": "688ec8b5-e5b7-4a4f-99e8-a1553a449b53",
   "metadata": {},
   "outputs": [
    {
     "name": "stdout",
     "output_type": "stream",
     "text": [
      "82.3\n"
     ]
    }
   ],
   "source": [
    "# List of marks of students and to find the mean marks of the student\n",
    "\n",
    "marks = [ 87, 76, 95, 68, 80, 83, 92, 74, 79, 89 ]\n",
    "meanmarks = sum(marks)/len(marks)\n",
    "print(meanmarks)"
   ]
  }
 ],
 "metadata": {
  "kernelspec": {
   "display_name": "Python 3 (ipykernel)",
   "language": "python",
   "name": "python3"
  },
  "language_info": {
   "codemirror_mode": {
    "name": "ipython",
    "version": 3
   },
   "file_extension": ".py",
   "mimetype": "text/x-python",
   "name": "python",
   "nbconvert_exporter": "python",
   "pygments_lexer": "ipython3",
   "version": "3.12.4"
  }
 },
 "nbformat": 4,
 "nbformat_minor": 5
}
