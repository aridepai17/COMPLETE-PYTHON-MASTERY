{
 "cells": [
  {
   "cell_type": "code",
   "execution_count": 3,
   "id": "a8fe84a3-bf71-4248-a43a-7f79dc9471db",
   "metadata": {},
   "outputs": [
    {
     "name": "stdout",
     "output_type": "stream",
     "text": [
      "Original List:  [3, 1, 4, 1, 5, 9, 2, 6, 5, 3]\n",
      "Sorted List:  [1, 1, 2, 3, 3, 4, 5, 5, 6, 9]\n"
     ]
    }
   ],
   "source": [
    "# sorted() returns a new sorted list\n",
    "\n",
    "mylist = [ 3, 1, 4, 1, 5, 9, 2, 6, 5, 3 ]\n",
    "sortedlist = sorted(mylist)\n",
    "print(\"Original List: \", mylist)\n",
    "print(\"Sorted List: \", sortedlist)"
   ]
  },
  {
   "cell_type": "code",
   "execution_count": 9,
   "id": "d8cc9780-2a70-431a-85c1-6af19b58fca5",
   "metadata": {},
   "outputs": [
    {
     "name": "stdout",
     "output_type": "stream",
     "text": [
      "Original List:  [1, 2, 3, 4]\n",
      "List now:  [1, 2, 3, 4, 5]\n"
     ]
    }
   ],
   "source": [
    "# append() adds a new element to the end of a list\n",
    "\n",
    "mylist = [ 1, 2, 3, 4 ]\n",
    "print(\"Original List: \", mylist)\n",
    "mylist.append(5)\n",
    "print(\"List now: \", mylist)"
   ]
  },
  {
   "cell_type": "code",
   "execution_count": 13,
   "id": "ef59c044-7e69-444a-9017-79c34502f622",
   "metadata": {},
   "outputs": [
    {
     "name": "stdout",
     "output_type": "stream",
     "text": [
      "Original Dictionary:  {'Name': 'John', 'Age': 45}\n",
      "Dictionary after update:  {'Name': 'John', 'Age': 23, 'Gender': 'Male'}\n"
     ]
    }
   ],
   "source": [
    "# update() adds or updates a key-value pair in a dictionary\n",
    "\n",
    "mydict = { \"Name\": \"John\", \"Age\": 45 }\n",
    "print(\"Original Dictionary: \", mydict)\n",
    "mydict.update({\"Age\": 23, \"Gender\": \"Male\" })\n",
    "print(\"Dictionary after update: \", mydict)"
   ]
  },
  {
   "cell_type": "code",
   "execution_count": 21,
   "id": "bb11264d-0bcf-442d-a022-356d981042fe",
   "metadata": {},
   "outputs": [
    {
     "name": "stdout",
     "output_type": "stream",
     "text": [
      "Original String:  Hello, World\n",
      "New String after replacement:  Hello, Python\n"
     ]
    }
   ],
   "source": [
    "# replace() replaces a substring in a string with a new substring\n",
    "\n",
    "mystring = \"Hello, World\"\n",
    "newstring = mystring.replace(\"World\", \"Python\")\n",
    "print(\"Original String: \", mystring)\n",
    "print(\"New String after replacement: \", newstring)"
   ]
  },
  {
   "cell_type": "code",
   "execution_count": 25,
   "id": "22ae43d3-face-4b06-a878-1f3a9e3d83f8",
   "metadata": {},
   "outputs": [
    {
     "name": "stdout",
     "output_type": "stream",
     "text": [
      "Original list:  [1, 2, 3]\n",
      "List after extending:  [1, 2, 3, 4, 5, 6]\n"
     ]
    }
   ],
   "source": [
    "# extend() adds multiple elements to the end of a list\n",
    "\n",
    "mylist = [ 1, 2, 3 ] \n",
    "print(\"Original list: \", mylist)\n",
    "mylist.extend([ 4, 5, 6])\n",
    "print(\"List after extending: \", mylist)"
   ]
  },
  {
   "cell_type": "code",
   "execution_count": 27,
   "id": "3e5de6c4-c81d-4f65-8ff8-77ff4e77723b",
   "metadata": {},
   "outputs": [
    {
     "name": "stdout",
     "output_type": "stream",
     "text": [
      "[6, 1, 2, 3, 4, 5]\n"
     ]
    }
   ],
   "source": [
    "# insert() adds an element at a specified position\n",
    "\n",
    "mylist = [ 1, 2, 3, 4, 5 ]\n",
    "mylist.insert( 0, 6 )\n",
    "print(mylist)"
   ]
  },
  {
   "cell_type": "code",
   "execution_count": 31,
   "id": "e81603f2-600d-412c-b413-fad94a1fb89e",
   "metadata": {},
   "outputs": [
    {
     "data": {
      "text/plain": [
       "4"
      ]
     },
     "execution_count": 31,
     "metadata": {},
     "output_type": "execute_result"
    }
   ],
   "source": [
    "# setdefault() updates the dictionary with specified key-value pairs\n",
    "\n",
    "mydict = { \"a\" : 4 , \"b\" : 5 }\n",
    "mydict.setdefault(\"a\", \"None\")"
   ]
  }
 ],
 "metadata": {
  "kernelspec": {
   "display_name": "Python 3 (ipykernel)",
   "language": "python",
   "name": "python3"
  },
  "language_info": {
   "codemirror_mode": {
    "name": "ipython",
    "version": 3
   },
   "file_extension": ".py",
   "mimetype": "text/x-python",
   "name": "python",
   "nbconvert_exporter": "python",
   "pygments_lexer": "ipython3",
   "version": "3.12.4"
  }
 },
 "nbformat": 4,
 "nbformat_minor": 5
}
