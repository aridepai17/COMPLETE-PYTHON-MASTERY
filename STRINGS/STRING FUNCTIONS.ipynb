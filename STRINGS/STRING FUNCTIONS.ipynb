{
 "cells": [
  {
   "cell_type": "code",
   "execution_count": 5,
   "id": "9a53c07a-b160-40bb-ad9a-769e6339323d",
   "metadata": {},
   "outputs": [
    {
     "name": "stdout",
     "output_type": "stream",
     "text": [
      "Original String:  R Pai better\n",
      "Uppercase String:  R PAI BETTER\n"
     ]
    }
   ],
   "source": [
    "# upper() to convert string to all uppercase\n",
    "\n",
    "string = \"R Pai better\"\n",
    "print(\"Original String: \", string)\n",
    "uppercase = string.upper()\n",
    "print(\"Uppercase String: \", uppercase)"
   ]
  },
  {
   "cell_type": "code",
   "execution_count": 9,
   "id": "608dcf8f-9280-48c0-85fe-c92b7927961a",
   "metadata": {},
   "outputs": [
    {
     "name": "stdout",
     "output_type": "stream",
     "text": [
      "Lowercase String:  r pai better\n"
     ]
    }
   ],
   "source": [
    "# lower() to convert string to all lowercase\n",
    "\n",
    "lowercase = string.lower()\n",
    "print(\"Lowercase String: \", lowercase)"
   ]
  },
  {
   "cell_type": "code",
   "execution_count": 11,
   "id": "c0e7d4ad-1ce1-4dae-b09e-6da227dd8a0a",
   "metadata": {},
   "outputs": [
    {
     "name": "stdout",
     "output_type": "stream",
     "text": [
      "Titlecase String:  R Pai Better\n"
     ]
    }
   ],
   "source": [
    "# title() to convert the first character of each word to uppercase\n",
    "\n",
    "titlecase = string.title()\n",
    "print(\"Titlecase String: \", titlecase)"
   ]
  },
  {
   "cell_type": "code",
   "execution_count": 17,
   "id": "697363f2-2c05-4eba-b90b-a9472cf2d643",
   "metadata": {},
   "outputs": [
    {
     "name": "stdout",
     "output_type": "stream",
     "text": [
      "Original String:  R Pai better\n",
      "New String after replacement:  R Pai best\n"
     ]
    }
   ],
   "source": [
    "# replace() to replace all occurrences of a substring with another substring\n",
    "\n",
    "print(\"Original String: \", string)\n",
    "newstring = string.replace(\"better\", \"best\")\n",
    "print(\"New String after replacement: \", newstring)"
   ]
  },
  {
   "cell_type": "code",
   "execution_count": 23,
   "id": "274fc772-4fc0-41ec-b995-ab9a40c3d943",
   "metadata": {},
   "outputs": [
    {
     "name": "stdout",
     "output_type": "stream",
     "text": [
      "Original String:  R Pai better\n"
     ]
    },
    {
     "data": {
      "text/plain": [
       "['R', 'Pai', 'better']"
      ]
     },
     "execution_count": 23,
     "metadata": {},
     "output_type": "execute_result"
    }
   ],
   "source": [
    "# split() to split a string into a list of substrings based on a separator\n",
    "\n",
    "print(\"Original String: \", string)\n",
    "string.split(' ')"
   ]
  },
  {
   "cell_type": "code",
   "execution_count": 29,
   "id": "449bcd70-7c32-46e9-896e-4632684f97e2",
   "metadata": {},
   "outputs": [
    {
     "name": "stdout",
     "output_type": "stream",
     "text": [
      "Original String:  R Pai better\n",
      "Joined String:  R- -P-a-i- -b-e-t-t-e-r\n"
     ]
    }
   ],
   "source": [
    "# join() to concatenate a list of strings into a single string with a separator\n",
    "\n",
    "print(\"Original String: \", string)\n",
    "newstring = \"-\".join(string)\n",
    "print(\"Joined String: \", newstring)"
   ]
  }
 ],
 "metadata": {
  "kernelspec": {
   "display_name": "Python 3 (ipykernel)",
   "language": "python",
   "name": "python3"
  },
  "language_info": {
   "codemirror_mode": {
    "name": "ipython",
    "version": 3
   },
   "file_extension": ".py",
   "mimetype": "text/x-python",
   "name": "python",
   "nbconvert_exporter": "python",
   "pygments_lexer": "ipython3",
   "version": "3.12.4"
  }
 },
 "nbformat": 4,
 "nbformat_minor": 5
}
