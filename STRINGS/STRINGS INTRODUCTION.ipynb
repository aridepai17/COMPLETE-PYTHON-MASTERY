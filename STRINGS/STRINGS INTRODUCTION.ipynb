{
 "cells": [
  {
   "cell_type": "code",
   "execution_count": 1,
   "id": "95c96928-d2f4-4e97-9003-c2d7ad4effdf",
   "metadata": {},
   "outputs": [
    {
     "data": {
      "text/plain": [
       "'Hello World'"
      ]
     },
     "execution_count": 1,
     "metadata": {},
     "output_type": "execute_result"
    }
   ],
   "source": [
    "# Single word\n",
    "myfirststring = \"Hello World\"\n",
    "myfirststring"
   ]
  },
  {
   "cell_type": "code",
   "execution_count": 5,
   "id": "2e0f590b-8bf0-4035-92da-2c5ac784bbdb",
   "metadata": {},
   "outputs": [
    {
     "name": "stdout",
     "output_type": "stream",
     "text": [
      "Statistics sits at the heart of machine learning\n"
     ]
    }
   ],
   "source": [
    "# Entire phrase\n",
    "phrase = 'Statistics sits at the heart of machine learning'\n",
    "print(phrase)"
   ]
  },
  {
   "cell_type": "code",
   "execution_count": 7,
   "id": "457d47be-bf0a-44ab-917e-988e234244bf",
   "metadata": {},
   "outputs": [
    {
     "data": {
      "text/plain": [
       "str"
      ]
     },
     "execution_count": 7,
     "metadata": {},
     "output_type": "execute_result"
    }
   ],
   "source": [
    "# Statement to get the type of the variable\n",
    "type(phrase)"
   ]
  },
  {
   "cell_type": "code",
   "execution_count": 9,
   "id": "54910412-1adf-45ca-8dab-566f88bb562e",
   "metadata": {},
   "outputs": [
    {
     "name": "stdout",
     "output_type": "stream",
     "text": [
      "String built with double quotes\n"
     ]
    }
   ],
   "source": [
    "# We can also use double quote\n",
    "mystring = \"String built with double quotes\"\n",
    "print(mystring)"
   ]
  },
  {
   "cell_type": "code",
   "execution_count": 11,
   "id": "e61c8d87-b597-43d7-8f98-e84cebc2da56",
   "metadata": {},
   "outputs": [
    {
     "name": "stdout",
     "output_type": "stream",
     "text": [
      "I'm fine. How are you?\n"
     ]
    }
   ],
   "source": [
    "# Backslash for quotes\n",
    "print('I\\'m fine. How are you?')"
   ]
  },
  {
   "cell_type": "code",
   "execution_count": 15,
   "id": "1dece5b3-2259-425e-abc0-667ca32ee953",
   "metadata": {},
   "outputs": [
    {
     "name": "stdout",
     "output_type": "stream",
     "text": [
      "m\n"
     ]
    }
   ],
   "source": [
    "message = \"Hey muddy, how are you doing?\"\n",
    "print(message[4])"
   ]
  },
  {
   "cell_type": "code",
   "execution_count": 29,
   "id": "c63b5599-b28c-49f6-86f1-787c8d1930d0",
   "metadata": {},
   "outputs": [
    {
     "name": "stdout",
     "output_type": "stream",
     "text": [
      "Hey muddy, how are you doing?\n",
      "Hey buddy, how are you doing?\n"
     ]
    }
   ],
   "source": [
    "# Way to change the string\n",
    "\n",
    "print(message)\n",
    "message = message.replace('muddy','buddy')\n",
    "print(message)"
   ]
  },
  {
   "cell_type": "code",
   "execution_count": 31,
   "id": "729a2fab-c761-4b3e-a344-9ae1cd9145db",
   "metadata": {},
   "outputs": [
    {
     "data": {
      "text/plain": [
       "15"
      ]
     },
     "execution_count": 31,
     "metadata": {},
     "output_type": "execute_result"
    }
   ],
   "source": [
    "# len() function returns the length of the string\n",
    "\n",
    "algorithm = 'Neural Networks'\n",
    "len(algorithm)"
   ]
  },
  {
   "cell_type": "code",
   "execution_count": 41,
   "id": "fa80a008-9c36-4606-b445-c698f9228683",
   "metadata": {},
   "outputs": [
    {
     "name": "stdout",
     "output_type": "stream",
     "text": [
      "Neural Networks\n",
      "2\n",
      "1\n"
     ]
    }
   ],
   "source": [
    "# count() method returns th count of a string in the given string. Unlike lower() and upper() method, the count () method takes a string as an argument.\n",
    "\n",
    "print(algorithm)\n",
    "print(algorithm.count('Ne'))\n",
    "print(algorithm.count('eu'))"
   ]
  },
  {
   "cell_type": "code",
   "execution_count": 47,
   "id": "ae26596d-ba21-405d-893d-9b83f031d695",
   "metadata": {},
   "outputs": [
    {
     "name": "stdout",
     "output_type": "stream",
     "text": [
      "Total number of 'e's in the list of books is 5\n",
      "Total number of 'e's in the list of books is 6\n"
     ]
    }
   ],
   "source": [
    "books = \"Python for Everyone, Learn Python the Hard Way, Python Crash Course, Starting out with Python\"\n",
    "ecounts = books.count('e')\n",
    "print(\"Total number of 'e's in the list of books is \" + str(ecounts))\n",
    "\n",
    "# That misses out on capital e, so it is a good idea to convert the whole string to lower case and then look for the number of e's.\n",
    "ecount = books.lower().count('e')\n",
    "print(\"Total number of 'e's in the list of books is \" + str(ecount))"
   ]
  },
  {
   "cell_type": "code",
   "execution_count": null,
   "id": "09ec61ab-cd6a-4d45-9da9-b10ee100e44e",
   "metadata": {},
   "outputs": [],
   "source": []
  }
 ],
 "metadata": {
  "kernelspec": {
   "display_name": "Python 3 (ipykernel)",
   "language": "python",
   "name": "python3"
  },
  "language_info": {
   "codemirror_mode": {
    "name": "ipython",
    "version": 3
   },
   "file_extension": ".py",
   "mimetype": "text/x-python",
   "name": "python",
   "nbconvert_exporter": "python",
   "pygments_lexer": "ipython3",
   "version": "3.12.4"
  }
 },
 "nbformat": 4,
 "nbformat_minor": 5
}
