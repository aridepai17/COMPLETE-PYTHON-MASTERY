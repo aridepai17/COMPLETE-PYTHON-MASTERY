{
 "cells": [
  {
   "cell_type": "code",
   "execution_count": 1,
   "id": "fdfdd653-5ab6-46bc-b7a0-354ececb723e",
   "metadata": {},
   "outputs": [
    {
     "name": "stdout",
     "output_type": "stream",
     "text": [
      "True\n",
      "False\n"
     ]
    }
   ],
   "source": [
    "# The membership operators in Python are \"in\" and \"not in\".\n",
    "# These operators are used to test if a value is a member of a sequence, such as string, list or tuple.\n",
    "\n",
    "sentence = \"The quick brown fox jumps over the lazy dog\"\n",
    "print(\"fox\" in sentence)\n",
    "print(\"cat\" in sentence)"
   ]
  },
  {
   "cell_type": "code",
   "execution_count": 3,
   "id": "0869b99b-ae88-4c46-b1ae-07f5ea9184d0",
   "metadata": {},
   "outputs": [
    {
     "name": "stdout",
     "output_type": "stream",
     "text": [
      "False\n",
      "True\n"
     ]
    }
   ],
   "source": [
    "sentence = \"The quick brown fox jumps over the lazy dog\"\n",
    "print(\"fox\" not in sentence)\n",
    "print(\"cat\" not in sentence)"
   ]
  }
 ],
 "metadata": {
  "kernelspec": {
   "display_name": "Python 3 (ipykernel)",
   "language": "python",
   "name": "python3"
  },
  "language_info": {
   "codemirror_mode": {
    "name": "ipython",
    "version": 3
   },
   "file_extension": ".py",
   "mimetype": "text/x-python",
   "name": "python",
   "nbconvert_exporter": "python",
   "pygments_lexer": "ipython3",
   "version": "3.12.4"
  }
 },
 "nbformat": 4,
 "nbformat_minor": 5
}
