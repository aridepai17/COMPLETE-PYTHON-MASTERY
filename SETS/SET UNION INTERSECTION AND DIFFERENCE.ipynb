{
 "cells": [
  {
   "cell_type": "code",
   "execution_count": 1,
   "id": "ba8a585f-e079-4311-81ae-c57d908ddd04",
   "metadata": {},
   "outputs": [
    {
     "name": "stdout",
     "output_type": "stream",
     "text": [
      "{1, 2, 3, 4}\n",
      "{2, 3}\n",
      "{1}\n"
     ]
    }
   ],
   "source": [
    "# Union operator returns a new set with all the elements from both sets\n",
    "# Intersection operator returns a new set with only the common elements between both sets\n",
    "# Difference operator returns a new set with onlyt hte elements from the first set that are not in the second set.\n",
    "\n",
    "seta = { 1, 2, 3 }\n",
    "setb = { 2, 3, 4 }\n",
    "\n",
    "print( seta | setb ) # Union\n",
    "print( seta & setb ) # Intersection\n",
    "print( seta - setb ) # Difference"
   ]
  }
 ],
 "metadata": {
  "kernelspec": {
   "display_name": "Python 3 (ipykernel)",
   "language": "python",
   "name": "python3"
  },
  "language_info": {
   "codemirror_mode": {
    "name": "ipython",
    "version": 3
   },
   "file_extension": ".py",
   "mimetype": "text/x-python",
   "name": "python",
   "nbconvert_exporter": "python",
   "pygments_lexer": "ipython3",
   "version": "3.12.4"
  }
 },
 "nbformat": 4,
 "nbformat_minor": 5
}
