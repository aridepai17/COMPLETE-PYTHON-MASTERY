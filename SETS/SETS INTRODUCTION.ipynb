{
 "cells": [
  {
   "cell_type": "code",
   "execution_count": null,
   "id": "bc6cb2b3-182b-4d70-805d-f97616061f70",
   "metadata": {},
   "outputs": [],
   "source": [
    "# Sets are powerful tool for working with collections of unique elements.\n",
    "# They allow you to perform operations like union, intersection, and difference on sets of data, making it easy to compare and manipulate large sets of data.\n",
    "# Sets are unordered collection of unique elements. \n",
    "# We can construct them by using set() function.\n",
    "# Sets cannot have duplicates.\n",
    "# Sets are mutable just like lists.\n",
    "# You can create a non-empty set with curly braces by specifying elements separated by a comma."
   ]
  },
  {
   "cell_type": "code",
   "execution_count": 3,
   "id": "cf2b6347-077e-4e57-9367-b29f9775beb4",
   "metadata": {},
   "outputs": [
    {
     "data": {
      "text/plain": [
       "set"
      ]
     },
     "execution_count": 3,
     "metadata": {},
     "output_type": "execute_result"
    }
   ],
   "source": [
    "emptyset = set()\n",
    "type(emptyset)"
   ]
  },
  {
   "cell_type": "code",
   "execution_count": 5,
   "id": "d0f296de-817b-405b-8086-1d1ba700a86b",
   "metadata": {},
   "outputs": [
    {
     "name": "stdout",
     "output_type": "stream",
     "text": [
      "{1, 3, 4, 'abc'}\n"
     ]
    }
   ],
   "source": [
    "nonemptyset = { 1, 3, 4, 'abc' }\n",
    "print(nonemptyset)"
   ]
  },
  {
   "cell_type": "code",
   "execution_count": 7,
   "id": "5127ff3e-e7fc-42de-9a53-5d62bb262203",
   "metadata": {},
   "outputs": [
    {
     "name": "stdout",
     "output_type": "stream",
     "text": [
      "{1, 3, 4, 7, 'abc'}\n"
     ]
    }
   ],
   "source": [
    "# Mutability in set\n",
    "nonemptyset = nonemptyset | {1, 7}\n",
    "print(nonemptyset)"
   ]
  },
  {
   "cell_type": "code",
   "execution_count": 15,
   "id": "e8bf69db-8e43-400d-b7d8-05a2f064b23e",
   "metadata": {},
   "outputs": [
    {
     "name": "stdout",
     "output_type": "stream",
     "text": [
      "<class 'dict'>\n",
      "<class 'set'>\n",
      "0\n"
     ]
    }
   ],
   "source": [
    "# An empty set cannot be represented as {}, which is reserved for an empty dictionary.\n",
    "myobject = {}\n",
    "type(myobject)\n",
    "print(type(myobject))\n",
    "\n",
    "myset = set()\n",
    "print(type(myset))\n",
    "print(len(myset))"
   ]
  },
  {
   "cell_type": "code",
   "execution_count": 21,
   "id": "073e58a7-83b3-4f78-a4d3-f77c94099c07",
   "metadata": {},
   "outputs": [
    {
     "ename": "TypeError",
     "evalue": "unhashable type: 'list'",
     "output_type": "error",
     "traceback": [
      "\u001b[1;31m---------------------------------------------------------------------------\u001b[0m",
      "\u001b[1;31mTypeError\u001b[0m                                 Traceback (most recent call last)",
      "Cell \u001b[1;32mIn[21], line 4\u001b[0m\n\u001b[0;32m      1\u001b[0m \u001b[38;5;66;03m# Sets cannot have mutable items in it.\u001b[39;00m\n\u001b[0;32m      2\u001b[0m \u001b[38;5;66;03m# But we can use immutable items such as tuple.\u001b[39;00m\n\u001b[1;32m----> 4\u001b[0m yourset1 \u001b[38;5;241m=\u001b[39m {\u001b[38;5;241m1\u001b[39m, \u001b[38;5;241m2\u001b[39m, [\u001b[38;5;241m3\u001b[39m, \u001b[38;5;241m4\u001b[39m] }\n\u001b[0;32m      5\u001b[0m \u001b[38;5;28mprint\u001b[39m(yourset1)\n\u001b[0;32m      6\u001b[0m yourset2 \u001b[38;5;241m=\u001b[39m { \u001b[38;5;241m2\u001b[39m, \u001b[38;5;241m3\u001b[39m, \u001b[38;5;241m4\u001b[39m, (\u001b[38;5;241m2\u001b[39m, \u001b[38;5;241m3\u001b[39m, \u001b[38;5;241m3\u001b[39m) }\n",
      "\u001b[1;31mTypeError\u001b[0m: unhashable type: 'list'"
     ]
    }
   ],
   "source": [
    "# Sets cannot have mutable items in it.\n",
    "yourset1 = {1, 2, [3, 4] }\n",
    "print(yourset1)"
   ]
  },
  {
   "cell_type": "code",
   "execution_count": 23,
   "id": "277a7322-4e14-4a23-982f-a5e50667120e",
   "metadata": {},
   "outputs": [
    {
     "name": "stdout",
     "output_type": "stream",
     "text": [
      "{3, 2, (2, 3, 3), 4}\n"
     ]
    }
   ],
   "source": [
    "# But we can use immutable items such as tuple\n",
    "yourset2 = { 2, 3, 4, (2, 3, 3) }\n",
    "print(yourset2)"
   ]
  },
  {
   "cell_type": "code",
   "execution_count": null,
   "id": "a76c4f5b-f884-4def-b877-6a00e94d3432",
   "metadata": {},
   "outputs": [],
   "source": []
  }
 ],
 "metadata": {
  "kernelspec": {
   "display_name": "Python 3 (ipykernel)",
   "language": "python",
   "name": "python3"
  },
  "language_info": {
   "codemirror_mode": {
    "name": "ipython",
    "version": 3
   },
   "file_extension": ".py",
   "mimetype": "text/x-python",
   "name": "python",
   "nbconvert_exporter": "python",
   "pygments_lexer": "ipython3",
   "version": "3.12.4"
  }
 },
 "nbformat": 4,
 "nbformat_minor": 5
}
