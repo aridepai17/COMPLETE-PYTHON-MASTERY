{
 "cells": [
  {
   "cell_type": "code",
   "execution_count": 1,
   "id": "b6509d53-af6c-4cca-a2fa-1042e6525f8f",
   "metadata": {},
   "outputs": [
    {
     "name": "stdout",
     "output_type": "stream",
     "text": [
      "True\n",
      "True\n",
      "False\n"
     ]
    }
   ],
   "source": [
    "# Boolean values ca nbe combined and manipulated using logical operators in Python.\n",
    "# AND returns True if both conditions are true, otherwise returns False.\n",
    "# OR returns True if atleast one condition is true, otherwise returns False.\n",
    "# NOT returns the opposite of the condition.\n",
    "\n",
    "x = 5\n",
    "y = 10\n",
    "z = 5\n",
    "\n",
    "print(( x < y ) and ( x == z ))\n",
    "print(( x > y ) or ( x == z ))\n",
    "print( not ( x == z ))"
   ]
  },
  {
   "cell_type": "code",
   "execution_count": null,
   "id": "3088a64e-155e-42dd-8f4c-0751f3c2557b",
   "metadata": {},
   "outputs": [],
   "source": []
  }
 ],
 "metadata": {
  "kernelspec": {
   "display_name": "Python 3 (ipykernel)",
   "language": "python",
   "name": "python3"
  },
  "language_info": {
   "codemirror_mode": {
    "name": "ipython",
    "version": 3
   },
   "file_extension": ".py",
   "mimetype": "text/x-python",
   "name": "python",
   "nbconvert_exporter": "python",
   "pygments_lexer": "ipython3",
   "version": "3.12.4"
  }
 },
 "nbformat": 4,
 "nbformat_minor": 5
}
