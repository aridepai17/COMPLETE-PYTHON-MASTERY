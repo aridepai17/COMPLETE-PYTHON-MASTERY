{
 "cells": [
  {
   "cell_type": "code",
   "execution_count": 1,
   "id": "dc6cec91-dde1-4bcd-b6a4-2d375055b85d",
   "metadata": {},
   "outputs": [
    {
     "name": "stdout",
     "output_type": "stream",
     "text": [
      "Hello:  Advaith R Pai\n",
      "Hello:  John Cena\n",
      "Hello:  Cristiano Ronaldo\n"
     ]
    }
   ],
   "source": [
    "def fun( fname, lname):\n",
    "    print(\"Hello: \", fname + \" \" + lname)\n",
    "\n",
    "fun(\"Advaith\", \"R Pai\")\n",
    "fun(\"John\", \"Cena\")\n",
    "fun(\"Cristiano\", \"Ronaldo\")"
   ]
  },
  {
   "cell_type": "code",
   "execution_count": 3,
   "id": "9195b612-581e-453a-9dcf-5b13c470dac0",
   "metadata": {},
   "outputs": [
    {
     "name": "stdout",
     "output_type": "stream",
     "text": [
      "apple\n",
      "banana\n",
      "oranges\n"
     ]
    }
   ],
   "source": [
    "def fun( food ):\n",
    "    for x in food:\n",
    "        print(x)\n",
    "\n",
    "fruits = [ \"apple\", \"banana\", \"oranges\" ]\n",
    "fun(fruits)"
   ]
  },
  {
   "cell_type": "code",
   "execution_count": 7,
   "id": "0858282a-991b-4823-8bc9-dadd83492bd6",
   "metadata": {},
   "outputs": [
    {
     "name": "stdout",
     "output_type": "stream",
     "text": [
      "30\n"
     ]
    }
   ],
   "source": [
    "def add( a, b ):\n",
    "    return a + b\n",
    "\n",
    "c = add( 10, 20 )\n",
    "print(c)"
   ]
  },
  {
   "cell_type": "code",
   "execution_count": 13,
   "id": "fe8ae7a6-32c2-4d7e-916c-a8c4a858ad65",
   "metadata": {},
   "outputs": [
    {
     "name": "stdout",
     "output_type": "stream",
     "text": [
      "5.0\n",
      "32.0\n"
     ]
    }
   ],
   "source": [
    "divide = lambda x, y: \"undefined\" if y == 0 else x/y\n",
    "\n",
    "print(divide(10 , 2))\n",
    "print(divide(512, 16))"
   ]
  },
  {
   "cell_type": "code",
   "execution_count": 15,
   "id": "6019bc13-d98e-4026-86dc-4493834a88f3",
   "metadata": {},
   "outputs": [
    {
     "name": "stdout",
     "output_type": "stream",
     "text": [
      "[2, 4, 6, 8, 10]\n"
     ]
    }
   ],
   "source": [
    "'''\n",
    "filter() is a built-in function that allows you to filter elements of an iterable based on a certain condition.\n",
    "The filter() function returns an iterator containing only the elements for which the condition is True.\n",
    "Syntax: filter( function, iterable )\n",
    "'''\n",
    "\n",
    "numbers = [ 1, 2, 3, 4, 5, 6, 7, 8, 9, 10 ]\n",
    "even = list(filter(lambda x : x%2 == 0 , numbers))\n",
    "print(even)"
   ]
  },
  {
   "cell_type": "code",
   "execution_count": 17,
   "id": "b78abbc0-a5e2-4da4-9171-b45d0a2f87cf",
   "metadata": {},
   "outputs": [
    {
     "name": "stdout",
     "output_type": "stream",
     "text": [
      "[1, 4, 9, 16, 25]\n"
     ]
    }
   ],
   "source": [
    "'''\n",
    "map() function in Python applies a given function to each item of an iterable and returns a new iterable with results.\n",
    "Syntax: map(function, iterable)\n",
    "'''\n",
    "\n",
    "numbers = [ 1, 2, 3, 4, 5 ]\n",
    "squares = list(map(lambda x: x**2, numbers))\n",
    "print(squares)"
   ]
  }
 ],
 "metadata": {
  "kernelspec": {
   "display_name": "Python 3 (ipykernel)",
   "language": "python",
   "name": "python3"
  },
  "language_info": {
   "codemirror_mode": {
    "name": "ipython",
    "version": 3
   },
   "file_extension": ".py",
   "mimetype": "text/x-python",
   "name": "python",
   "nbconvert_exporter": "python",
   "pygments_lexer": "ipython3",
   "version": "3.12.4"
  }
 },
 "nbformat": 4,
 "nbformat_minor": 5
}
