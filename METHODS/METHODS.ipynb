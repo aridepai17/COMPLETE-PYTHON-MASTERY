{
 "cells": [
  {
   "cell_type": "code",
   "execution_count": 1,
   "id": "a66f96a9-cf79-4e62-8de3-cc1ec9d631a1",
   "metadata": {},
   "outputs": [
    {
     "name": "stdout",
     "output_type": "stream",
     "text": [
      "Length of the list:  5\n"
     ]
    }
   ],
   "source": [
    "# len function to retrieve the length of the list\n",
    "\n",
    "mylist = [ 1, 2, 3, 4, 5 ]\n",
    "print(\"Length of the list: \", len(mylist))"
   ]
  },
  {
   "cell_type": "code",
   "execution_count": 3,
   "id": "3ae7365e-3b8d-43e1-9390-8e1afb045eae",
   "metadata": {},
   "outputs": [
    {
     "name": "stdout",
     "output_type": "stream",
     "text": [
      "Index of element 30 is:  2\n"
     ]
    }
   ],
   "source": [
    "# index method to retrieve the index of an element in a list\n",
    "\n",
    "mylist = [ 10, 20, 30, 40, 50, 60 ]\n",
    "index = mylist.index(30)\n",
    "print(\"Index of element 30 is: \", index)"
   ]
  },
  {
   "cell_type": "code",
   "execution_count": 9,
   "id": "048aff54-61c3-4afa-8c7a-ab7a98ddceaa",
   "metadata": {},
   "outputs": [
    {
     "name": "stdout",
     "output_type": "stream",
     "text": [
      "26\n"
     ]
    }
   ],
   "source": [
    "# Retrieving a value from a dictionary using get()\n",
    "\n",
    "mydict = {\"Name\" : \"John\", \"Age\":26, \"City\": \"New York\" }\n",
    "age = mydict.get(\"Age\")\n",
    "print(age)"
   ]
  },
  {
   "cell_type": "code",
   "execution_count": 13,
   "id": "675013c7-abbd-42ea-952c-6d9cf496b032",
   "metadata": {},
   "outputs": [
    {
     "name": "stdout",
     "output_type": "stream",
     "text": [
      "Index of 'World':  7\n"
     ]
    }
   ],
   "source": [
    "# Retrieving the index fo a substring in a string using find()\n",
    "\n",
    "mystring = \"Hello, World\"\n",
    "index = mystring.find(\"World\")\n",
    "print(\"Index of 'World': \", index)"
   ]
  },
  {
   "cell_type": "code",
   "execution_count": 19,
   "id": "7c5aff62-e079-4c76-931c-767e6baf1270",
   "metadata": {},
   "outputs": [
    {
     "name": "stdout",
     "output_type": "stream",
     "text": [
      "Count of element 3:  3\n"
     ]
    }
   ],
   "source": [
    "# Retrieving the count of an element in a list using count()\n",
    "\n",
    "mylist =  [ 1, 4, 4, 5, 5, 4, 2, 3, 3, 4, 4, 3 ]\n",
    "count = mylist.count(3)\n",
    "print(\"Count of element 3: \", count)"
   ]
  }
 ],
 "metadata": {
  "kernelspec": {
   "display_name": "Python 3 (ipykernel)",
   "language": "python",
   "name": "python3"
  },
  "language_info": {
   "codemirror_mode": {
    "name": "ipython",
    "version": 3
   },
   "file_extension": ".py",
   "mimetype": "text/x-python",
   "name": "python",
   "nbconvert_exporter": "python",
   "pygments_lexer": "ipython3",
   "version": "3.12.4"
  }
 },
 "nbformat": 4,
 "nbformat_minor": 5
}
